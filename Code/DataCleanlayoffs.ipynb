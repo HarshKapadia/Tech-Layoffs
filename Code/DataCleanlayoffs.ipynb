{
 "cells": [
  {
   "cell_type": "code",
   "execution_count": 24,
   "id": "f4cddafb",
   "metadata": {
    "vscode": {
     "languageId": "markdown"
    }
   },
   "outputs": [
    {
     "data": {
      "text/html": [
       "<div>\n",
       "<style scoped>\n",
       "    .dataframe tbody tr th:only-of-type {\n",
       "        vertical-align: middle;\n",
       "    }\n",
       "\n",
       "    .dataframe tbody tr th {\n",
       "        vertical-align: top;\n",
       "    }\n",
       "\n",
       "    .dataframe thead th {\n",
       "        text-align: right;\n",
       "    }\n",
       "</style>\n",
       "<table border=\"1\" class=\"dataframe\">\n",
       "  <thead>\n",
       "    <tr style=\"text-align: right;\">\n",
       "      <th></th>\n",
       "      <th>company</th>\n",
       "      <th>location</th>\n",
       "      <th>total_laid_off</th>\n",
       "      <th>date</th>\n",
       "      <th>percentage_laid_off</th>\n",
       "      <th>industry</th>\n",
       "      <th>source</th>\n",
       "      <th>stage</th>\n",
       "      <th>funds_raised</th>\n",
       "      <th>country</th>\n",
       "      <th>date_added</th>\n",
       "    </tr>\n",
       "  </thead>\n",
       "  <tbody>\n",
       "    <tr>\n",
       "      <th>0</th>\n",
       "      <td>Match Group</td>\n",
       "      <td>New York City</td>\n",
       "      <td>325.0</td>\n",
       "      <td>5/8/2025</td>\n",
       "      <td>13%</td>\n",
       "      <td>Consumer</td>\n",
       "      <td>https://www.bloomberg.com/news/articles/2025-0...</td>\n",
       "      <td>Post-IPO</td>\n",
       "      <td>NaN</td>\n",
       "      <td>United States</td>\n",
       "      <td>5/9/2025</td>\n",
       "    </tr>\n",
       "    <tr>\n",
       "      <th>1</th>\n",
       "      <td>CrowdStrike</td>\n",
       "      <td>SF Bay Area</td>\n",
       "      <td>500.0</td>\n",
       "      <td>5/7/2025</td>\n",
       "      <td>5%</td>\n",
       "      <td>Security</td>\n",
       "      <td>https://www.wsj.com/business/crowdstrike-to-cu...</td>\n",
       "      <td>Post-IPO</td>\n",
       "      <td>$1200</td>\n",
       "      <td>United States</td>\n",
       "      <td>5/7/2025</td>\n",
       "    </tr>\n",
       "    <tr>\n",
       "      <th>2</th>\n",
       "      <td>GenWise</td>\n",
       "      <td>New Delhi,Non-U.S.</td>\n",
       "      <td>15.0</td>\n",
       "      <td>5/5/2025</td>\n",
       "      <td>20%</td>\n",
       "      <td>Other</td>\n",
       "      <td>https://entrackr.com/exclusive/exclusive-z47-b...</td>\n",
       "      <td>Seed</td>\n",
       "      <td>$3</td>\n",
       "      <td>India</td>\n",
       "      <td>5/5/2025</td>\n",
       "    </tr>\n",
       "    <tr>\n",
       "      <th>3</th>\n",
       "      <td>General Fusion</td>\n",
       "      <td>Vancouver,Non-U.S.</td>\n",
       "      <td>NaN</td>\n",
       "      <td>5/5/2025</td>\n",
       "      <td>25%</td>\n",
       "      <td>Energy</td>\n",
       "      <td>https://techcrunch.com/2025/05/05/layoffs-hit-...</td>\n",
       "      <td>Unknown</td>\n",
       "      <td>$370</td>\n",
       "      <td>Canada</td>\n",
       "      <td>5/5/2025</td>\n",
       "    </tr>\n",
       "    <tr>\n",
       "      <th>4</th>\n",
       "      <td>Deep Instinct</td>\n",
       "      <td>Tel Aviv,Non-U.S.</td>\n",
       "      <td>20.0</td>\n",
       "      <td>5/4/2025</td>\n",
       "      <td>10%</td>\n",
       "      <td>Security</td>\n",
       "      <td>https://www.calcalistech.com/ctechnews/article...</td>\n",
       "      <td>Unknown</td>\n",
       "      <td>$322</td>\n",
       "      <td>Israel</td>\n",
       "      <td>5/5/2025</td>\n",
       "    </tr>\n",
       "  </tbody>\n",
       "</table>\n",
       "</div>"
      ],
      "text/plain": [
       "          company            location  total_laid_off      date  \\\n",
       "0     Match Group       New York City           325.0  5/8/2025   \n",
       "1     CrowdStrike         SF Bay Area           500.0  5/7/2025   \n",
       "2         GenWise  New Delhi,Non-U.S.            15.0  5/5/2025   \n",
       "3  General Fusion  Vancouver,Non-U.S.             NaN  5/5/2025   \n",
       "4   Deep Instinct   Tel Aviv,Non-U.S.            20.0  5/4/2025   \n",
       "\n",
       "  percentage_laid_off  industry  \\\n",
       "0                 13%  Consumer   \n",
       "1                  5%  Security   \n",
       "2                 20%     Other   \n",
       "3                 25%    Energy   \n",
       "4                 10%  Security   \n",
       "\n",
       "                                              source     stage funds_raised  \\\n",
       "0  https://www.bloomberg.com/news/articles/2025-0...  Post-IPO          NaN   \n",
       "1  https://www.wsj.com/business/crowdstrike-to-cu...  Post-IPO        $1200   \n",
       "2  https://entrackr.com/exclusive/exclusive-z47-b...      Seed           $3   \n",
       "3  https://techcrunch.com/2025/05/05/layoffs-hit-...   Unknown         $370   \n",
       "4  https://www.calcalistech.com/ctechnews/article...   Unknown         $322   \n",
       "\n",
       "         country date_added  \n",
       "0  United States   5/9/2025  \n",
       "1  United States   5/7/2025  \n",
       "2          India   5/5/2025  \n",
       "3         Canada   5/5/2025  \n",
       "4         Israel   5/5/2025  "
      ]
     },
     "execution_count": 24,
     "metadata": {},
     "output_type": "execute_result"
    }
   ],
   "source": [
    "import pandas as pd\n",
    "import numpy as np\n",
    "\n",
    "# Load the dataset\n",
    "# Make sure to adjust the path to where your CSV file is located\n",
    "layoffs_df = pd.read_csv('D:\\\\New Project\\\\AI_ML\\\\Tech-Layoffs\\\\Data\\\\Raw\\\\layoffs.csv')\n",
    "layoffs_df.head()"
   ]
  },
  {
   "cell_type": "code",
   "execution_count": null,
   "id": "86570736",
   "metadata": {},
   "outputs": [
    {
     "name": "stdout",
     "output_type": "stream",
     "text": [
      "<class 'pandas.core.frame.DataFrame'>\n",
      "RangeIndex: 4061 entries, 0 to 4060\n",
      "Data columns (total 11 columns):\n",
      " #   Column               Non-Null Count  Dtype  \n",
      "---  ------               --------------  -----  \n",
      " 0   company              4061 non-null   object \n",
      " 1   location             4060 non-null   object \n",
      " 2   total_laid_off       2648 non-null   float64\n",
      " 3   date                 4061 non-null   object \n",
      " 4   percentage_laid_off  2584 non-null   object \n",
      " 5   industry             4060 non-null   object \n",
      " 6   source               4058 non-null   object \n",
      " 7   stage                4054 non-null   object \n",
      " 8   funds_raised         3614 non-null   object \n",
      " 9   country              4061 non-null   object \n",
      " 10  date_added           4061 non-null   object \n",
      "dtypes: float64(1), object(10)\n",
      "memory usage: 349.1+ KB\n"
     ]
    }
   ],
   "source": [
    "#Summary of the data\n",
    "layoffs_df.info()\n"
   ]
  },
  {
   "cell_type": "code",
   "execution_count": null,
   "id": "05e4b299",
   "metadata": {},
   "outputs": [
    {
     "data": {
      "text/html": [
       "<div>\n",
       "<style scoped>\n",
       "    .dataframe tbody tr th:only-of-type {\n",
       "        vertical-align: middle;\n",
       "    }\n",
       "\n",
       "    .dataframe tbody tr th {\n",
       "        vertical-align: top;\n",
       "    }\n",
       "\n",
       "    .dataframe thead th {\n",
       "        text-align: right;\n",
       "    }\n",
       "</style>\n",
       "<table border=\"1\" class=\"dataframe\">\n",
       "  <thead>\n",
       "    <tr style=\"text-align: right;\">\n",
       "      <th></th>\n",
       "      <th>total_laid_off</th>\n",
       "    </tr>\n",
       "  </thead>\n",
       "  <tbody>\n",
       "    <tr>\n",
       "      <th>count</th>\n",
       "      <td>2648.000000</td>\n",
       "    </tr>\n",
       "    <tr>\n",
       "      <th>mean</th>\n",
       "      <td>276.584970</td>\n",
       "    </tr>\n",
       "    <tr>\n",
       "      <th>std</th>\n",
       "      <td>957.231693</td>\n",
       "    </tr>\n",
       "    <tr>\n",
       "      <th>min</th>\n",
       "      <td>3.000000</td>\n",
       "    </tr>\n",
       "    <tr>\n",
       "      <th>25%</th>\n",
       "      <td>40.000000</td>\n",
       "    </tr>\n",
       "    <tr>\n",
       "      <th>50%</th>\n",
       "      <td>85.000000</td>\n",
       "    </tr>\n",
       "    <tr>\n",
       "      <th>75%</th>\n",
       "      <td>200.000000</td>\n",
       "    </tr>\n",
       "    <tr>\n",
       "      <th>max</th>\n",
       "      <td>22000.000000</td>\n",
       "    </tr>\n",
       "  </tbody>\n",
       "</table>\n",
       "</div>"
      ],
      "text/plain": [
       "       total_laid_off\n",
       "count     2648.000000\n",
       "mean       276.584970\n",
       "std        957.231693\n",
       "min          3.000000\n",
       "25%         40.000000\n",
       "50%         85.000000\n",
       "75%        200.000000\n",
       "max      22000.000000"
      ]
     },
     "execution_count": 28,
     "metadata": {},
     "output_type": "execute_result"
    }
   ],
   "source": [
    "#Summary statistics\n",
    "layoffs_df.describe()"
   ]
  },
  {
   "cell_type": "code",
   "execution_count": null,
   "id": "607442c9",
   "metadata": {},
   "outputs": [
    {
     "data": {
      "text/plain": [
       "company                   0\n",
       "location                  1\n",
       "total_laid_off         1413\n",
       "date                      0\n",
       "percentage_laid_off    1477\n",
       "industry                  1\n",
       "source                    3\n",
       "stage                     7\n",
       "funds_raised            447\n",
       "country                   0\n",
       "date_added                0\n",
       "dtype: int64"
      ]
     },
     "execution_count": 13,
     "metadata": {},
     "output_type": "execute_result"
    }
   ],
   "source": [
    "#Check for missing values\n",
    "layoffs_df.isnull().sum()"
   ]
  },
  {
   "cell_type": "code",
   "execution_count": null,
   "id": "0748bee9",
   "metadata": {},
   "outputs": [
    {
     "data": {
      "text/plain": [
       "0"
      ]
     },
     "execution_count": 11,
     "metadata": {},
     "output_type": "execute_result"
    }
   ],
   "source": [
    "#Identify duplicates\n",
    "layoffs_df.duplicated().sum()"
   ]
  },
  {
   "cell_type": "code",
   "execution_count": null,
   "id": "f0bba959",
   "metadata": {},
   "outputs": [],
   "source": [
    "#Drop rows with missing values\n",
    "layoffs_df.dropna(inplace=True) "
   ]
  },
  {
   "cell_type": "code",
   "execution_count": null,
   "id": "77bf27d5",
   "metadata": {},
   "outputs": [],
   "source": [
    "# Processed data saved to a new CSV file at Data/Interim\n",
    "# Save the processed DataFrame to a new CSV file\n",
    "layoffs_df.to_csv('D:\\\\New Project\\\\AI_ML\\\\Tech-Layoffs\\\\Data\\\\Interim\\\\layoffs_processed.csv', index=False)"
   ]
  },
  {
   "cell_type": "code",
   "execution_count": null,
   "id": "d6a9139a",
   "metadata": {},
   "outputs": [],
   "source": []
  }
 ],
 "metadata": {
  "kernelspec": {
   "display_name": "Python 3",
   "language": "python",
   "name": "python3"
  },
  "language_info": {
   "codemirror_mode": {
    "name": "ipython",
    "version": 3
   },
   "file_extension": ".py",
   "mimetype": "text/x-python",
   "name": "python",
   "nbconvert_exporter": "python",
   "pygments_lexer": "ipython3",
   "version": "3.11.5"
  }
 },
 "nbformat": 4,
 "nbformat_minor": 5
}
